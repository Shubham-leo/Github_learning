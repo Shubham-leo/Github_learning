{
 "cells": [
  {
   "cell_type": "code",
   "execution_count": 2,
   "metadata": {},
   "outputs": [],
   "source": [
    "pip install torch"
   ]
  },
  {
   "cell_type": "code",
   "execution_count": 4,
   "metadata": {},
   "outputs": [],
   "source": [
    "import torch"
   ]
  },
  {
   "cell_type": "code",
   "execution_count": 7,
   "metadata": {},
   "outputs": [
    {
     "name": "stderr",
     "output_type": "stream",
     "text": [
      "s:\\Algo\\test\\asdasd\\Lib\\site-packages\\tqdm\\auto.py:21: TqdmWarning: IProgress not found. Please update jupyter and ipywidgets. See https://ipywidgets.readthedocs.io/en/stable/user_install.html\n",
      "  from .autonotebook import tqdm as notebook_tqdm\n"
     ]
    },
    {
     "ename": "",
     "evalue": "",
     "output_type": "error",
     "traceback": [
      "\u001b[1;31mThe Kernel crashed while executing code in the current cell or a previous cell. \n",
      "\u001b[1;31mPlease review the code in the cell(s) to identify a possible cause of the failure. \n",
      "\u001b[1;31mClick <a href='https://aka.ms/vscodeJupyterKernelCrash'>here</a> for more info. \n",
      "\u001b[1;31mView Jupyter <a href='command:jupyter.viewOutput'>log</a> for further details."
     ]
    }
   ],
   "source": [
    "from gliner import GLiNER"
   ]
  },
  {
   "cell_type": "code",
   "execution_count": 6,
   "metadata": {},
   "outputs": [
    {
     "name": "stdout",
     "output_type": "stream",
     "text": [
      "Collecting gliner\n",
      "  Using cached gliner-0.1.12-py3-none-any.whl (26 kB)\n",
      "Requirement already satisfied: torch>=2.0.0 in s:\\algo\\test\\asdasd\\lib\\site-packages (from gliner) (2.3.0)\n",
      "Collecting transformers>=4.38.2\n",
      "  Using cached transformers-4.40.2-py3-none-any.whl (9.0 MB)\n",
      "Collecting huggingface-hub>=0.21.4\n",
      "  Using cached huggingface_hub-0.23.0-py3-none-any.whl (401 kB)\n",
      "Collecting flair==0.13.1\n",
      "  Using cached flair-0.13.1-py3-none-any.whl (388 kB)\n",
      "Collecting scipy<=1.12\n",
      "  Using cached scipy-1.12.0-cp311-cp311-win_amd64.whl (46.2 MB)\n",
      "Collecting seqeval\n",
      "  Using cached seqeval-1.2.2-py3-none-any.whl\n",
      "Collecting tqdm\n",
      "  Using cached tqdm-4.66.4-py3-none-any.whl (78 kB)\n",
      "Collecting boto3>=1.20.27\n",
      "  Downloading boto3-1.34.100-py3-none-any.whl (139 kB)\n",
      "     -------------------------------------- 139.3/139.3 kB 8.6 MB/s eta 0:00:00\n",
      "Collecting bpemb>=0.3.2\n",
      "  Using cached bpemb-0.3.5-py3-none-any.whl (19 kB)\n",
      "Collecting conllu>=4.0\n",
      "  Using cached conllu-4.5.3-py2.py3-none-any.whl (16 kB)\n",
      "Collecting deprecated>=1.2.13\n",
      "  Using cached Deprecated-1.2.14-py2.py3-none-any.whl (9.6 kB)\n",
      "Collecting ftfy>=6.1.0\n",
      "  Using cached ftfy-6.2.0-py3-none-any.whl (54 kB)\n",
      "Collecting gdown>=4.4.0\n",
      "  Using cached gdown-5.1.0-py3-none-any.whl (17 kB)\n",
      "Collecting gensim>=4.2.0\n",
      "  Using cached gensim-4.3.2-cp311-cp311-win_amd64.whl (24.0 MB)\n",
      "Collecting janome>=0.4.2\n",
      "  Using cached Janome-0.5.0-py2.py3-none-any.whl (19.7 MB)\n",
      "Collecting langdetect>=1.0.9\n",
      "  Using cached langdetect-1.0.9-py3-none-any.whl\n",
      "Collecting lxml>=4.8.0\n",
      "  Using cached lxml-5.2.1-cp311-cp311-win_amd64.whl (3.8 MB)\n",
      "Collecting matplotlib>=2.2.3\n",
      "  Using cached matplotlib-3.8.4-cp311-cp311-win_amd64.whl (7.7 MB)\n",
      "Collecting more-itertools>=8.13.0\n",
      "  Using cached more_itertools-10.2.0-py3-none-any.whl (57 kB)\n",
      "Collecting mpld3>=0.3\n",
      "  Using cached mpld3-0.5.10-py3-none-any.whl (202 kB)\n",
      "Collecting pptree>=3.1\n",
      "  Using cached pptree-3.1-py3-none-any.whl\n",
      "Requirement already satisfied: python-dateutil>=2.8.2 in s:\\algo\\test\\asdasd\\lib\\site-packages (from flair==0.13.1->gliner) (2.9.0.post0)\n",
      "Collecting pytorch-revgrad>=0.2.0\n",
      "  Using cached pytorch_revgrad-0.2.0-py3-none-any.whl (4.6 kB)\n",
      "Collecting regex>=2022.1.18\n",
      "  Using cached regex-2024.4.28-cp311-cp311-win_amd64.whl (268 kB)\n",
      "Collecting scikit-learn>=1.0.2\n",
      "  Using cached scikit_learn-1.4.2-cp311-cp311-win_amd64.whl (10.6 MB)\n",
      "Collecting segtok>=1.5.11\n",
      "  Using cached segtok-1.5.11-py3-none-any.whl (24 kB)\n",
      "Collecting sqlitedict>=2.0.0\n",
      "  Using cached sqlitedict-2.1.0-py3-none-any.whl\n",
      "Collecting tabulate>=0.8.10\n",
      "  Using cached tabulate-0.9.0-py3-none-any.whl (35 kB)\n",
      "Collecting transformer-smaller-training-vocab>=0.2.3\n",
      "  Using cached transformer_smaller_training_vocab-0.4.0-py3-none-any.whl (14 kB)\n",
      "Collecting urllib3<2.0.0,>=1.0.0\n",
      "  Using cached urllib3-1.26.18-py2.py3-none-any.whl (143 kB)\n",
      "Collecting wikipedia-api>=0.5.7\n",
      "  Using cached Wikipedia_API-0.6.0-py3-none-any.whl (14 kB)\n",
      "Collecting semver<4.0.0,>=3.0.0\n",
      "  Using cached semver-3.0.2-py3-none-any.whl (17 kB)\n",
      "Requirement already satisfied: filelock in s:\\algo\\test\\asdasd\\lib\\site-packages (from huggingface-hub>=0.21.4->gliner) (3.14.0)\n",
      "Requirement already satisfied: fsspec>=2023.5.0 in s:\\algo\\test\\asdasd\\lib\\site-packages (from huggingface-hub>=0.21.4->gliner) (2024.3.1)\n",
      "Requirement already satisfied: packaging>=20.9 in s:\\algo\\test\\asdasd\\lib\\site-packages (from huggingface-hub>=0.21.4->gliner) (24.0)\n",
      "Collecting pyyaml>=5.1\n",
      "  Using cached PyYAML-6.0.1-cp311-cp311-win_amd64.whl (144 kB)\n",
      "Collecting requests\n",
      "  Using cached requests-2.31.0-py3-none-any.whl (62 kB)\n",
      "Requirement already satisfied: typing-extensions>=3.7.4.3 in s:\\algo\\test\\asdasd\\lib\\site-packages (from huggingface-hub>=0.21.4->gliner) (4.11.0)\n",
      "Collecting numpy<1.29.0,>=1.22.4\n",
      "  Using cached numpy-1.26.4-cp311-cp311-win_amd64.whl (15.8 MB)\n",
      "Requirement already satisfied: sympy in s:\\algo\\test\\asdasd\\lib\\site-packages (from torch>=2.0.0->gliner) (1.12)\n",
      "Requirement already satisfied: networkx in s:\\algo\\test\\asdasd\\lib\\site-packages (from torch>=2.0.0->gliner) (3.3)\n",
      "Requirement already satisfied: jinja2 in s:\\algo\\test\\asdasd\\lib\\site-packages (from torch>=2.0.0->gliner) (3.1.4)\n",
      "Requirement already satisfied: mkl<=2021.4.0,>=2021.1.1 in s:\\algo\\test\\asdasd\\lib\\site-packages (from torch>=2.0.0->gliner) (2021.4.0)\n",
      "Requirement already satisfied: colorama in s:\\algo\\test\\asdasd\\lib\\site-packages (from tqdm->gliner) (0.4.6)\n",
      "Collecting tokenizers<0.20,>=0.19\n",
      "  Using cached tokenizers-0.19.1-cp311-none-win_amd64.whl (2.2 MB)\n",
      "Collecting safetensors>=0.4.1\n",
      "  Using cached safetensors-0.4.3-cp311-none-win_amd64.whl (287 kB)\n",
      "Collecting botocore<1.35.0,>=1.34.100\n",
      "  Downloading botocore-1.34.100-py3-none-any.whl (12.2 MB)\n",
      "     ---------------------------------------- 12.2/12.2 MB 5.0 MB/s eta 0:00:00\n",
      "Collecting jmespath<2.0.0,>=0.7.1\n",
      "  Using cached jmespath-1.0.1-py3-none-any.whl (20 kB)\n",
      "Collecting s3transfer<0.11.0,>=0.10.0\n",
      "  Using cached s3transfer-0.10.1-py3-none-any.whl (82 kB)\n",
      "Collecting sentencepiece\n",
      "  Using cached sentencepiece-0.2.0-cp311-cp311-win_amd64.whl (991 kB)\n",
      "Collecting wrapt<2,>=1.10\n",
      "  Using cached wrapt-1.16.0-cp311-cp311-win_amd64.whl (37 kB)\n",
      "Requirement already satisfied: wcwidth<0.3.0,>=0.2.12 in s:\\algo\\test\\asdasd\\lib\\site-packages (from ftfy>=6.1.0->flair==0.13.1->gliner) (0.2.13)\n",
      "Collecting beautifulsoup4\n",
      "  Using cached beautifulsoup4-4.12.3-py3-none-any.whl (147 kB)\n",
      "Collecting smart-open>=1.8.1\n",
      "  Using cached smart_open-7.0.4-py3-none-any.whl (61 kB)\n",
      "Requirement already satisfied: six in s:\\algo\\test\\asdasd\\lib\\site-packages (from langdetect>=1.0.9->flair==0.13.1->gliner) (1.16.0)\n",
      "Collecting contourpy>=1.0.1\n",
      "  Using cached contourpy-1.2.1-cp311-cp311-win_amd64.whl (188 kB)\n",
      "Collecting cycler>=0.10\n",
      "  Using cached cycler-0.12.1-py3-none-any.whl (8.3 kB)\n",
      "Collecting fonttools>=4.22.0\n",
      "  Using cached fonttools-4.51.0-cp311-cp311-win_amd64.whl (2.2 MB)\n",
      "Collecting kiwisolver>=1.3.1\n",
      "  Using cached kiwisolver-1.4.5-cp311-cp311-win_amd64.whl (56 kB)\n",
      "Collecting pillow>=8\n",
      "  Using cached pillow-10.3.0-cp311-cp311-win_amd64.whl (2.5 MB)\n",
      "Collecting pyparsing>=2.3.1\n",
      "  Using cached pyparsing-3.1.2-py3-none-any.whl (103 kB)\n",
      "Requirement already satisfied: intel-openmp==2021.* in s:\\algo\\test\\asdasd\\lib\\site-packages (from mkl<=2021.4.0,>=2021.1.1->torch>=2.0.0->gliner) (2021.4.0)\n",
      "Requirement already satisfied: tbb==2021.* in s:\\algo\\test\\asdasd\\lib\\site-packages (from mkl<=2021.4.0,>=2021.1.1->torch>=2.0.0->gliner) (2021.12.0)\n",
      "Collecting joblib>=1.2.0\n",
      "  Using cached joblib-1.4.2-py3-none-any.whl (301 kB)\n",
      "Collecting threadpoolctl>=2.0.0\n",
      "  Using cached threadpoolctl-3.5.0-py3-none-any.whl (18 kB)\n",
      "Collecting protobuf\n",
      "  Using cached protobuf-5.26.1-cp310-abi3-win_amd64.whl (420 kB)\n",
      "Requirement already satisfied: MarkupSafe>=2.0 in s:\\algo\\test\\asdasd\\lib\\site-packages (from jinja2->torch>=2.0.0->gliner) (2.1.5)\n",
      "Collecting charset-normalizer<4,>=2\n",
      "  Using cached charset_normalizer-3.3.2-cp311-cp311-win_amd64.whl (99 kB)\n",
      "Collecting idna<4,>=2.5\n",
      "  Using cached idna-3.7-py3-none-any.whl (66 kB)\n",
      "Collecting certifi>=2017.4.17\n",
      "  Using cached certifi-2024.2.2-py3-none-any.whl (163 kB)\n",
      "Requirement already satisfied: mpmath>=0.19 in s:\\algo\\test\\asdasd\\lib\\site-packages (from sympy->torch>=2.0.0->gliner) (1.3.0)\n",
      "Collecting accelerate>=0.21.0\n",
      "  Using cached accelerate-0.30.0-py3-none-any.whl (302 kB)\n",
      "Collecting soupsieve>1.2\n",
      "  Using cached soupsieve-2.5-py3-none-any.whl (36 kB)\n",
      "Collecting PySocks!=1.5.7,>=1.5.6\n",
      "  Using cached PySocks-1.7.1-py3-none-any.whl (16 kB)\n",
      "Requirement already satisfied: psutil in s:\\algo\\test\\asdasd\\lib\\site-packages (from accelerate>=0.21.0->transformers>=4.38.2->gliner) (5.9.8)\n",
      "Installing collected packages: sqlitedict, sentencepiece, pptree, janome, wrapt, urllib3, tqdm, threadpoolctl, tabulate, soupsieve, semver, safetensors, regex, pyyaml, PySocks, pyparsing, protobuf, pillow, numpy, more-itertools, lxml, langdetect, kiwisolver, joblib, jmespath, idna, ftfy, fonttools, cycler, conllu, charset-normalizer, certifi, smart-open, segtok, scipy, requests, deprecated, contourpy, botocore, beautifulsoup4, wikipedia-api, scikit-learn, s3transfer, pytorch-revgrad, matplotlib, huggingface-hub, gensim, tokenizers, seqeval, mpld3, gdown, bpemb, boto3, accelerate, transformers, transformer-smaller-training-vocab, flair, gliner\n",
      "Successfully installed PySocks-1.7.1 accelerate-0.30.0 beautifulsoup4-4.12.3 boto3-1.34.100 botocore-1.34.100 bpemb-0.3.5 certifi-2024.2.2 charset-normalizer-3.3.2 conllu-4.5.3 contourpy-1.2.1 cycler-0.12.1 deprecated-1.2.14 flair-0.13.1 fonttools-4.51.0 ftfy-6.2.0 gdown-5.1.0 gensim-4.3.2 gliner-0.1.12 huggingface-hub-0.23.0 idna-3.7 janome-0.5.0 jmespath-1.0.1 joblib-1.4.2 kiwisolver-1.4.5 langdetect-1.0.9 lxml-5.2.1 matplotlib-3.8.4 more-itertools-10.2.0 mpld3-0.5.10 numpy-1.26.4 pillow-10.3.0 pptree-3.1 protobuf-5.26.1 pyparsing-3.1.2 pytorch-revgrad-0.2.0 pyyaml-6.0.1 regex-2024.4.28 requests-2.31.0 s3transfer-0.10.1 safetensors-0.4.3 scikit-learn-1.4.2 scipy-1.12.0 segtok-1.5.11 semver-3.0.2 sentencepiece-0.2.0 seqeval-1.2.2 smart-open-7.0.4 soupsieve-2.5 sqlitedict-2.1.0 tabulate-0.9.0 threadpoolctl-3.5.0 tokenizers-0.19.1 tqdm-4.66.4 transformer-smaller-training-vocab-0.4.0 transformers-4.40.2 urllib3-1.26.18 wikipedia-api-0.6.0 wrapt-1.16.0\n",
      "Note: you may need to restart the kernel to use updated packages.\n"
     ]
    },
    {
     "name": "stderr",
     "output_type": "stream",
     "text": [
      "\n",
      "[notice] A new release of pip available: 22.3.1 -> 24.0\n",
      "[notice] To update, run: python.exe -m pip install --upgrade pip\n"
     ]
    }
   ],
   "source": [
    "pip install gliner\n"
   ]
  },
  {
   "cell_type": "code",
   "execution_count": null,
   "metadata": {},
   "outputs": [],
   "source": []
  }
 ],
 "metadata": {
  "kernelspec": {
   "display_name": "asdasd",
   "language": "python",
   "name": "python3"
  },
  "language_info": {
   "codemirror_mode": {
    "name": "ipython",
    "version": 3
   },
   "file_extension": ".py",
   "mimetype": "text/x-python",
   "name": "python",
   "nbconvert_exporter": "python",
   "pygments_lexer": "ipython3",
   "version": "3.11.3"
  }
 },
 "nbformat": 4,
 "nbformat_minor": 2
}
